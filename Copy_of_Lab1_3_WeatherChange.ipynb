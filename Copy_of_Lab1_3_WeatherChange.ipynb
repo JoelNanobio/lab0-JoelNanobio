{
  "nbformat": 4,
  "nbformat_minor": 0,
  "metadata": {
    "colab": {
      "name": "Copy of Lab1.1_WeatherChange.ipynb",
      "provenance": [],
      "collapsed_sections": [],
      "toc_visible": true,
      "include_colab_link": true
    },
    "kernelspec": {
      "name": "python3",
      "display_name": "Python 3"
    }
  },
  "cells": [
    {
      "cell_type": "markdown",
      "metadata": {
        "id": "view-in-github",
        "colab_type": "text"
      },
      "source": [
        "<a href=\"https://colab.research.google.com/github/JoelNanobio/lab0-JoelNanobio/blob/master/Copy_of_Lab1_3_WeatherChange.ipynb\" target=\"_parent\"><img src=\"https://colab.research.google.com/assets/colab-badge.svg\" alt=\"Open In Colab\"/></a>"
      ]
    },
    {
      "cell_type": "markdown",
      "metadata": {
        "id": "9zDPadTUqgRp"
      },
      "source": [
        "# Introduction to Modeling of Estimation for Weather Change Class"
      ]
    },
    {
      "cell_type": "code",
      "metadata": {
        "id": "TjWK-1tfhvr3"
      },
      "source": [
        ""
      ],
      "execution_count": null,
      "outputs": []
    },
    {
      "cell_type": "code",
      "metadata": {
        "id": "65mw7rJdb_V7"
      },
      "source": [
        ""
      ],
      "execution_count": null,
      "outputs": []
    },
    {
      "cell_type": "markdown",
      "metadata": {
        "id": "QiXRNAWbgNFH"
      },
      "source": [
        "*Laboratory  1\n",
        "Name:**Joel Sanchez Barea**\n",
        "*   Chemistry\n",
        "*   Microfluidics and Biosensors\n",
        "*   September 24th 2020"
      ]
    },
    {
      "cell_type": "code",
      "metadata": {
        "id": "lbqhO6aOf7na",
        "outputId": "8a395747-a152-4fe5-8f42-21336455e86e",
        "colab": {
          "base_uri": "https://localhost:8080/",
          "height": 34
        }
      },
      "source": [
        "a = 11\n",
        "b = 12 \n",
        "print (a + b)"
      ],
      "execution_count": null,
      "outputs": [
        {
          "output_type": "stream",
          "text": [
            "23\n"
          ],
          "name": "stdout"
        }
      ]
    },
    {
      "cell_type": "code",
      "metadata": {
        "id": "G3PJKUxwgjYf",
        "outputId": "820055ca-b631-4f32-dcd2-b296d6b17a00",
        "colab": {
          "base_uri": "https://localhost:8080/",
          "height": 34
        }
      },
      "source": [
        "a += 1\n",
        "print (a + b)"
      ],
      "execution_count": null,
      "outputs": [
        {
          "output_type": "stream",
          "text": [
            "25\n"
          ],
          "name": "stdout"
        }
      ]
    },
    {
      "cell_type": "code",
      "metadata": {
        "id": "iVNzm8PCfUEf",
        "outputId": "6c5d940b-6400-428b-9c93-095eefc6c603",
        "colab": {
          "base_uri": "https://localhost:8080/",
          "height": 34
        }
      },
      "source": [
        "from google.colab import drive\n",
        "drive.mount('/content/drive')"
      ],
      "execution_count": null,
      "outputs": [
        {
          "output_type": "stream",
          "text": [
            "Mounted at /content/drive\n"
          ],
          "name": "stdout"
        }
      ]
    },
    {
      "cell_type": "code",
      "metadata": {
        "id": "lFOvs6XxgZfa",
        "outputId": "60d28ebe-adf0-4fa5-f71a-e5cf438f496b",
        "colab": {
          "base_uri": "https://localhost:8080/",
          "height": 34
        }
      },
      "source": [
        "!pwd"
      ],
      "execution_count": null,
      "outputs": [
        {
          "output_type": "stream",
          "text": [
            "/content\n"
          ],
          "name": "stdout"
        }
      ]
    },
    {
      "cell_type": "code",
      "metadata": {
        "id": "FB_DXSl3goei",
        "outputId": "7374e799-b3c0-4139-ca6e-8453c412c7be",
        "colab": {
          "base_uri": "https://localhost:8080/",
          "height": 51
        }
      },
      "source": [
        "!ls 'drive/My Drive/Colab Notebooks'"
      ],
      "execution_count": null,
      "outputs": [
        {
          "output_type": "stream",
          "text": [
            " Untitled\t  'Untitled (1)'     Untitled2.ipynb\n",
            " Untitled0.ipynb   Untitled1.ipynb   Untitled3.ipynb\n"
          ],
          "name": "stdout"
        }
      ]
    },
    {
      "cell_type": "markdown",
      "metadata": {
        "id": "QGszBczs6DTL"
      },
      "source": [
        "*Data Types\n"
      ]
    },
    {
      "cell_type": "code",
      "metadata": {
        "id": "AleCujQf6MHZ",
        "outputId": "574dd236-9282-409b-b2f4-9d24426ca161",
        "colab": {
          "base_uri": "https://localhost:8080/",
          "height": 34
        }
      },
      "source": [
        "\n",
        "1+1\n"
      ],
      "execution_count": null,
      "outputs": [
        {
          "output_type": "execute_result",
          "data": {
            "text/plain": [
              "2"
            ]
          },
          "metadata": {
            "tags": []
          },
          "execution_count": 8
        }
      ]
    },
    {
      "cell_type": "code",
      "metadata": {
        "id": "4bKHI72c6GS5"
      },
      "source": [
        "s12=3\n"
      ],
      "execution_count": null,
      "outputs": []
    },
    {
      "cell_type": "code",
      "metadata": {
        "id": "c7zjyO2Y7yhW"
      },
      "source": [
        "y=4\n",
        "x=5"
      ],
      "execution_count": null,
      "outputs": []
    },
    {
      "cell_type": "code",
      "metadata": {
        "id": "IN2d1ls18goB",
        "outputId": "ba9d1074-1d67-465e-a794-35409e234007",
        "colab": {
          "base_uri": "https://localhost:8080/",
          "height": 163
        }
      },
      "source": [
        "y"
      ],
      "execution_count": null,
      "outputs": [
        {
          "output_type": "error",
          "ename": "NameError",
          "evalue": "ignored",
          "traceback": [
            "\u001b[0;31m---------------------------------------------------------------------------\u001b[0m",
            "\u001b[0;31mNameError\u001b[0m                                 Traceback (most recent call last)",
            "\u001b[0;32m<ipython-input-16-9063a9f0e032>\u001b[0m in \u001b[0;36m<module>\u001b[0;34m()\u001b[0m\n\u001b[0;32m----> 1\u001b[0;31m \u001b[0my\u001b[0m\u001b[0;34m\u001b[0m\u001b[0;34m\u001b[0m\u001b[0m\n\u001b[0m",
            "\u001b[0;31mNameError\u001b[0m: name 'y' is not defined"
          ]
        }
      ]
    },
    {
      "cell_type": "markdown",
      "metadata": {
        "id": "T7CK3FaO64xV"
      },
      "source": [
        "//Variable assigment"
      ]
    },
    {
      "cell_type": "code",
      "metadata": {
        "id": "tsUWeBlF8NNP"
      },
      "source": [
        "y=4"
      ],
      "execution_count": null,
      "outputs": []
    },
    {
      "cell_type": "code",
      "metadata": {
        "id": "RpKUULnw7-lN",
        "outputId": "7f77eaed-2cdc-4bd1-edca-b77b2dc0abc4",
        "colab": {
          "base_uri": "https://localhost:8080/",
          "height": 163
        }
      },
      "source": [
        "print (y)\n"
      ],
      "execution_count": null,
      "outputs": [
        {
          "output_type": "error",
          "ename": "NameError",
          "evalue": "ignored",
          "traceback": [
            "\u001b[0;31m---------------------------------------------------------------------------\u001b[0m",
            "\u001b[0;31mNameError\u001b[0m                                 Traceback (most recent call last)",
            "\u001b[0;32m<ipython-input-15-451ca8f462d9>\u001b[0m in \u001b[0;36m<module>\u001b[0;34m()\u001b[0m\n\u001b[0;32m----> 1\u001b[0;31m \u001b[0mprint\u001b[0m \u001b[0;34m(\u001b[0m\u001b[0my\u001b[0m\u001b[0;34m)\u001b[0m\u001b[0;34m\u001b[0m\u001b[0;34m\u001b[0m\u001b[0m\n\u001b[0m",
            "\u001b[0;31mNameError\u001b[0m: name 'y' is not defined"
          ]
        }
      ]
    },
    {
      "cell_type": "markdown",
      "metadata": {
        "id": "lUamu1Ae8-Ce"
      },
      "source": [
        "*String"
      ]
    },
    {
      "cell_type": "code",
      "metadata": {
        "id": "Xk9Z091d9BDY",
        "outputId": "dc5cbdcd-ef3c-45f9-80ab-0c7c732a2138",
        "colab": {
          "base_uri": "https://localhost:8080/",
          "height": 35
        }
      },
      "source": [
        "'single quotes'"
      ],
      "execution_count": null,
      "outputs": [
        {
          "output_type": "execute_result",
          "data": {
            "application/vnd.google.colaboratory.intrinsic+json": {
              "type": "string"
            },
            "text/plain": [
              "'single quotes'"
            ]
          },
          "metadata": {
            "tags": []
          },
          "execution_count": 17
        }
      ]
    },
    {
      "cell_type": "code",
      "metadata": {
        "id": "hexeVN8_9U4T"
      },
      "source": [
        "st= \"Welcome to class 5\""
      ],
      "execution_count": null,
      "outputs": []
    },
    {
      "cell_type": "code",
      "metadata": {
        "id": "lCKvBl4hYbFE",
        "outputId": "ab5d8d7e-932a-4907-8722-eea4c49541ec",
        "colab": {
          "base_uri": "https://localhost:8080/",
          "height": 34
        }
      },
      "source": [
        "print (st)"
      ],
      "execution_count": null,
      "outputs": [
        {
          "output_type": "stream",
          "text": [
            "Welcome to class 5\n"
          ],
          "name": "stdout"
        }
      ]
    },
    {
      "cell_type": "markdown",
      "metadata": {
        "id": "73B_R557X5ad"
      },
      "source": [
        ""
      ]
    },
    {
      "cell_type": "code",
      "metadata": {
        "id": "r4XCPUSP9hec",
        "outputId": "89c9542b-d326-494e-c0e6-621c2f152fc1",
        "colab": {
          "base_uri": "https://localhost:8080/",
          "height": 129
        }
      },
      "source": [
        "my strings\n"
      ],
      "execution_count": null,
      "outputs": [
        {
          "output_type": "error",
          "ename": "SyntaxError",
          "evalue": "ignored",
          "traceback": [
            "\u001b[0;36m  File \u001b[0;32m\"<ipython-input-20-551f25a3c4c9>\"\u001b[0;36m, line \u001b[0;32m1\u001b[0m\n\u001b[0;31m    my strings\u001b[0m\n\u001b[0m             ^\u001b[0m\n\u001b[0;31mSyntaxError\u001b[0m\u001b[0;31m:\u001b[0m invalid syntax\n"
          ]
        }
      ]
    },
    {
      "cell_type": "code",
      "metadata": {
        "id": "Mkl-LzcfXQgx"
      },
      "source": [
        "st=\"Modeling of estimation for weather change\""
      ],
      "execution_count": null,
      "outputs": []
    },
    {
      "cell_type": "code",
      "metadata": {
        "id": "vjvS7o-uXnxf",
        "outputId": "b6b56e3f-23b1-40ac-ddbf-4a8bd4b39cf0",
        "colab": {
          "base_uri": "https://localhost:8080/",
          "height": 35
        }
      },
      "source": [
        "st[0]"
      ],
      "execution_count": null,
      "outputs": [
        {
          "output_type": "execute_result",
          "data": {
            "application/vnd.google.colaboratory.intrinsic+json": {
              "type": "string"
            },
            "text/plain": [
              "'M'"
            ]
          },
          "metadata": {
            "tags": []
          },
          "execution_count": 9
        }
      ]
    },
    {
      "cell_type": "code",
      "metadata": {
        "id": "TMP7YXwEY55z",
        "outputId": "f6bffcae-e210-41f7-c303-fba8aa4bc00d",
        "colab": {
          "base_uri": "https://localhost:8080/",
          "height": 35
        }
      },
      "source": [
        "st[1]"
      ],
      "execution_count": null,
      "outputs": [
        {
          "output_type": "execute_result",
          "data": {
            "application/vnd.google.colaboratory.intrinsic+json": {
              "type": "string"
            },
            "text/plain": [
              "'o'"
            ]
          },
          "metadata": {
            "tags": []
          },
          "execution_count": 10
        }
      ]
    },
    {
      "cell_type": "code",
      "metadata": {
        "id": "lMPQqjuGZo7V"
      },
      "source": [
        ""
      ],
      "execution_count": null,
      "outputs": []
    },
    {
      "cell_type": "code",
      "metadata": {
        "id": "J-5ST3vqZQq2",
        "outputId": "7665d94f-fe9e-4dcc-ae31-9c7a3e72c184",
        "colab": {
          "base_uri": "https://localhost:8080/",
          "height": 35
        }
      },
      "source": [
        "st[-1]"
      ],
      "execution_count": null,
      "outputs": [
        {
          "output_type": "execute_result",
          "data": {
            "application/vnd.google.colaboratory.intrinsic+json": {
              "type": "string"
            },
            "text/plain": [
              "'e'"
            ]
          },
          "metadata": {
            "tags": []
          },
          "execution_count": 11
        }
      ]
    },
    {
      "cell_type": "code",
      "metadata": {
        "id": "MkETfgxhZpzN",
        "outputId": "fc6514d3-add0-4a12-d1f6-37b7049a097c",
        "colab": {
          "base_uri": "https://localhost:8080/",
          "height": 35
        }
      },
      "source": [
        "st[-6:]"
      ],
      "execution_count": null,
      "outputs": [
        {
          "output_type": "execute_result",
          "data": {
            "application/vnd.google.colaboratory.intrinsic+json": {
              "type": "string"
            },
            "text/plain": [
              "'change'"
            ]
          },
          "metadata": {
            "tags": []
          },
          "execution_count": 12
        }
      ]
    },
    {
      "cell_type": "code",
      "metadata": {
        "id": "Buy75T_ha6JF"
      },
      "source": [
        "# \"get the word estimation\""
      ],
      "execution_count": null,
      "outputs": []
    },
    {
      "cell_type": "code",
      "metadata": {
        "id": "O9f5AwQDcVKM",
        "outputId": "815f5354-c88c-4ec1-dacb-e9051e6e90b6",
        "colab": {
          "base_uri": "https://localhost:8080/",
          "height": 35
        }
      },
      "source": [
        "st[-29:-18]"
      ],
      "execution_count": null,
      "outputs": [
        {
          "output_type": "execute_result",
          "data": {
            "application/vnd.google.colaboratory.intrinsic+json": {
              "type": "string"
            },
            "text/plain": [
              "'estimation '"
            ]
          },
          "metadata": {
            "tags": []
          },
          "execution_count": 14
        }
      ]
    },
    {
      "cell_type": "code",
      "metadata": {
        "id": "yTPH-0nzbOx3"
      },
      "source": [
        "# \"get the word \" weather"
      ],
      "execution_count": null,
      "outputs": []
    },
    {
      "cell_type": "code",
      "metadata": {
        "id": "7lbvNfUdcpNG",
        "outputId": "be17e566-eb09-4bdd-ee2c-966bf096ff2f",
        "colab": {
          "base_uri": "https://localhost:8080/",
          "height": 35
        }
      },
      "source": [
        "st[-14:-7]"
      ],
      "execution_count": null,
      "outputs": [
        {
          "output_type": "execute_result",
          "data": {
            "application/vnd.google.colaboratory.intrinsic+json": {
              "type": "string"
            },
            "text/plain": [
              "'weather'"
            ]
          },
          "metadata": {
            "tags": []
          },
          "execution_count": 18
        }
      ]
    },
    {
      "cell_type": "code",
      "metadata": {
        "id": "RyizeM42dFXg"
      },
      "source": [
        "tweet=\"Go suwon bluewings !! #Bluewings\""
      ],
      "execution_count": null,
      "outputs": []
    },
    {
      "cell_type": "code",
      "metadata": {
        "id": "i_fSVbIOdw91",
        "outputId": "a221488d-c8df-485f-80ba-f23335282470",
        "colab": {
          "base_uri": "https://localhost:8080/",
          "height": 34
        }
      },
      "source": [
        "tweet.upper().split(\"!\")[-6:-2]"
      ],
      "execution_count": null,
      "outputs": [
        {
          "output_type": "execute_result",
          "data": {
            "text/plain": [
              "['GO SUWON BLUEWINGS ']"
            ]
          },
          "metadata": {
            "tags": []
          },
          "execution_count": 49
        }
      ]
    },
    {
      "cell_type": "code",
      "metadata": {
        "id": "CTdOn6l3h78J"
      },
      "source": [
        "num=12\n",
        "Name= Joel"
      ],
      "execution_count": null,
      "outputs": []
    },
    {
      "cell_type": "code",
      "metadata": {
        "id": "nSQ89CWHiYoL"
      },
      "source": [
        "print"
      ],
      "execution_count": null,
      "outputs": []
    },
    {
      "cell_type": "markdown",
      "metadata": {
        "id": "2o0QS9Ova_o0"
      },
      "source": [
        "\n",
        "\n",
        "```\n",
        "# This is formatted as code\n",
        "```\n",
        "\n",
        "\n",
        "\n",
        "> Indented block\n",
        "\n"
      ]
    },
    {
      "cell_type": "code",
      "metadata": {
        "id": "8I_VooEQcDKl"
      },
      "source": [
        "# create a variable named class = Modeling of estimation of weather change "
      ],
      "execution_count": null,
      "outputs": []
    },
    {
      "cell_type": "code",
      "metadata": {
        "id": "JVcVfctiyMel"
      },
      "source": [
        "name_class=(\"Modeling \\nof \\nestimation \\nof \\nweather \\n change\")"
      ],
      "execution_count": null,
      "outputs": []
    },
    {
      "cell_type": "code",
      "metadata": {
        "id": "9M71xt1z7K2k",
        "outputId": "bbd4912a-03e5-4418-8432-349ac20e56b0",
        "colab": {
          "base_uri": "https://localhost:8080/"
        }
      },
      "source": [
        "print (name_class,sep=\"/2n\")"
      ],
      "execution_count": null,
      "outputs": [
        {
          "output_type": "stream",
          "text": [
            "Modeling \n",
            "of \n",
            "estimation \n",
            "of \n",
            "weather \n",
            " change\n"
          ],
          "name": "stdout"
        }
      ]
    },
    {
      "cell_type": "code",
      "metadata": {
        "id": "fblBggi3hxSQ"
      },
      "source": [
        "artist = [\"Judas priest\", \"Metallica\", \"Dio\", \"Megadeth\", \"Deep purple\"]"
      ],
      "execution_count": 28,
      "outputs": []
    },
    {
      "cell_type": "code",
      "metadata": {
        "id": "KxeAmMyXh-lB",
        "outputId": "afefa67b-bec8-4fd3-f312-a598ebb66984",
        "colab": {
          "base_uri": "https://localhost:8080/",
          "height": 34
        }
      },
      "source": [
        "print (artist)"
      ],
      "execution_count": 29,
      "outputs": [
        {
          "output_type": "stream",
          "text": [
            "['Judas priest', 'Metallica', 'Dio', 'Megadeth', 'Deep purple']\n"
          ],
          "name": "stdout"
        }
      ]
    },
    {
      "cell_type": "code",
      "metadata": {
        "id": "8Z4Pv2xdlvwI"
      },
      "source": [
        "artist[3] = \"John Lennon\""
      ],
      "execution_count": 30,
      "outputs": []
    },
    {
      "cell_type": "code",
      "metadata": {
        "id": "9UV4jzkll72V",
        "outputId": "e549fc24-2a8e-4ce9-82d2-2083ea6a4f79",
        "colab": {
          "base_uri": "https://localhost:8080/",
          "height": 34
        }
      },
      "source": [
        "print (artist)"
      ],
      "execution_count": 31,
      "outputs": [
        {
          "output_type": "stream",
          "text": [
            "['Judas priest', 'Metallica', 'Dio', 'John Lennon', 'Deep purple']\n"
          ],
          "name": "stdout"
        }
      ]
    },
    {
      "cell_type": "code",
      "metadata": {
        "id": "y3YDI0fymFT1"
      },
      "source": [
        "artist.append(\"Madonna\")"
      ],
      "execution_count": 26,
      "outputs": []
    },
    {
      "cell_type": "code",
      "metadata": {
        "id": "0B25jjjQmVg9",
        "outputId": "8fe9ee70-102e-43ab-fdca-82f18325097b",
        "colab": {
          "base_uri": "https://localhost:8080/",
          "height": 34
        }
      },
      "source": [
        "print (artist)"
      ],
      "execution_count": 27,
      "outputs": [
        {
          "output_type": "stream",
          "text": [
            "['Judas priest', 'Metallica', 'Dio', 'Megadeth', 'John Lennon', 'Madonna']\n"
          ],
          "name": "stdout"
        }
      ]
    },
    {
      "cell_type": "code",
      "metadata": {
        "id": "f-dKvdMqoXin"
      },
      "source": [
        ""
      ],
      "execution_count": null,
      "outputs": []
    },
    {
      "cell_type": "code",
      "metadata": {
        "id": "qlPUtazpoWVN"
      },
      "source": [
        "temp_dict={\"Suwon\":26, \"Incheon\": 24, \"Seoul\": 25}"
      ],
      "execution_count": 33,
      "outputs": []
    },
    {
      "cell_type": "code",
      "metadata": {
        "id": "i6-qjAwEoXqH"
      },
      "source": [
        "for i_temp in temp_dict:\n",
        "   print(\"Key:\" )"
      ],
      "execution_count": null,
      "outputs": []
    },
    {
      "cell_type": "code",
      "metadata": {
        "id": "AoG713CdoYGu"
      },
      "source": [
        ""
      ],
      "execution_count": null,
      "outputs": []
    },
    {
      "cell_type": "markdown",
      "metadata": {
        "id": "X-AqxqkJpxjh"
      },
      "source": [
        "Comparison operators"
      ]
    },
    {
      "cell_type": "code",
      "metadata": {
        "id": "HmOKWtxwoYLZ",
        "outputId": "f63228d8-8f2c-4247-cf9f-cf6fc4ca5d39",
        "colab": {
          "base_uri": "https://localhost:8080/",
          "height": 34
        }
      },
      "source": [
        "1==1"
      ],
      "execution_count": 32,
      "outputs": [
        {
          "output_type": "execute_result",
          "data": {
            "text/plain": [
              "True"
            ]
          },
          "metadata": {
            "tags": []
          },
          "execution_count": 32
        }
      ]
    },
    {
      "cell_type": "code",
      "metadata": {
        "id": "Gyfz1LK9oYOj",
        "outputId": "19f80875-52b0-4976-cedd-0841506a5c54",
        "colab": {
          "base_uri": "https://localhost:8080/",
          "height": 34
        }
      },
      "source": [
        "10==10\n"
      ],
      "execution_count": 37,
      "outputs": [
        {
          "output_type": "execute_result",
          "data": {
            "text/plain": [
              "True"
            ]
          },
          "metadata": {
            "tags": []
          },
          "execution_count": 37
        }
      ]
    },
    {
      "cell_type": "markdown",
      "metadata": {
        "id": "dgN9Gd0Otqc1"
      },
      "source": [
        "#Logic operators"
      ]
    },
    {
      "cell_type": "code",
      "metadata": {
        "id": "69pzrc6joYUX",
        "outputId": "d69f9b37-ca12-422a-ca4a-da28f0efff1e",
        "colab": {
          "base_uri": "https://localhost:8080/",
          "height": 34
        }
      },
      "source": [
        "(1 == 2) and (2==2)"
      ],
      "execution_count": 41,
      "outputs": [
        {
          "output_type": "execute_result",
          "data": {
            "text/plain": [
              "False"
            ]
          },
          "metadata": {
            "tags": []
          },
          "execution_count": 41
        }
      ]
    },
    {
      "cell_type": "code",
      "metadata": {
        "id": "TguGHaf6oXn4",
        "outputId": "5bce981a-4cdf-48e8-bdcf-b03a00f05feb",
        "colab": {
          "base_uri": "https://localhost:8080/",
          "height": 34
        }
      },
      "source": [
        "(1==2) or (1==1)"
      ],
      "execution_count": 43,
      "outputs": [
        {
          "output_type": "execute_result",
          "data": {
            "text/plain": [
              "True"
            ]
          },
          "metadata": {
            "tags": []
          },
          "execution_count": 43
        }
      ]
    },
    {
      "cell_type": "code",
      "metadata": {
        "id": "JQ6maFGsoXl3",
        "outputId": "4f5a0e63-c79c-4ff9-db6d-f7624e079ed9",
        "colab": {
          "base_uri": "https://localhost:8080/",
          "height": 129
        }
      },
      "source": [
        "#Change the following code so it evaluates to false: 1==1 and 3==3. print\n",
        " (1!=1) and 3==3 "
      ],
      "execution_count": 52,
      "outputs": [
        {
          "output_type": "error",
          "ename": "IndentationError",
          "evalue": "ignored",
          "traceback": [
            "\u001b[0;36m  File \u001b[0;32m\"<ipython-input-52-62ba21e3abdd>\"\u001b[0;36m, line \u001b[0;32m2\u001b[0m\n\u001b[0;31m    (1!=1) and 3==3\u001b[0m\n\u001b[0m    ^\u001b[0m\n\u001b[0;31mIndentationError\u001b[0m\u001b[0;31m:\u001b[0m unexpected indent\n"
          ]
        }
      ]
    },
    {
      "cell_type": "markdown",
      "metadata": {
        "id": "Ku7bUw1Pvh6R"
      },
      "source": [
        "#If, elif,else statements"
      ]
    },
    {
      "cell_type": "code",
      "metadata": {
        "id": "BCyiU-KfvgpE",
        "outputId": "7accb96e-41bd-48bc-d7f8-37f5809f4f6f",
        "colab": {
          "base_uri": "https://localhost:8080/",
          "height": 34
        }
      },
      "source": [
        "if (1==1):\n",
        "   print (\"Yep!\")"
      ],
      "execution_count": 53,
      "outputs": [
        {
          "output_type": "stream",
          "text": [
            "Yep!\n"
          ],
          "name": "stdout"
        }
      ]
    },
    {
      "cell_type": "code",
      "metadata": {
        "id": "j2e10-SGvwT6",
        "outputId": "3aa64cbe-2e62-4d7e-ad38-6cdbd2e761cf",
        "colab": {
          "base_uri": "https://localhost:8080/",
          "height": 34
        }
      },
      "source": [
        " if (1==1):\n",
        "  print (\"oh no\")"
      ],
      "execution_count": 65,
      "outputs": [
        {
          "output_type": "stream",
          "text": [
            "oh no\n"
          ],
          "name": "stdout"
        }
      ]
    },
    {
      "cell_type": "markdown",
      "metadata": {
        "id": "rjX-PLRMxKcg"
      },
      "source": [
        "#Write a program that has a variable called temperature and print \" It is Hot\" "
      ]
    },
    {
      "cell_type": "code",
      "metadata": {
        "id": "mNRtEaBgxWCu"
      },
      "source": [
        "temp = 25"
      ],
      "execution_count": 74,
      "outputs": []
    },
    {
      "cell_type": "code",
      "metadata": {
        "id": "qs3uomHexiue",
        "outputId": "cdb0f5df-0284-4d23-a024-6a2bc45fdb00",
        "colab": {
          "base_uri": "https://localhost:8080/",
          "height": 34
        }
      },
      "source": [
        "if (temp == 17):\n",
        "  print (\"it is cold\")\n",
        "elif (temp == 25):\n",
        "  print(\"It is hot\")"
      ],
      "execution_count": 77,
      "outputs": [
        {
          "output_type": "stream",
          "text": [
            "It is hot\n"
          ],
          "name": "stdout"
        }
      ]
    },
    {
      "cell_type": "code",
      "metadata": {
        "id": "-Ic7acuIx1ZX"
      },
      "source": [
        ""
      ],
      "execution_count": null,
      "outputs": []
    },
    {
      "cell_type": "markdown",
      "metadata": {
        "id": "acRKxL7Uy7Kw"
      },
      "source": [
        "#For Loops"
      ]
    },
    {
      "cell_type": "code",
      "metadata": {
        "id": "TrUCriqhy_RD"
      },
      "source": [
        "seq = [1,2,3,4,5]"
      ],
      "execution_count": 78,
      "outputs": []
    },
    {
      "cell_type": "code",
      "metadata": {
        "id": "KGXJuUpHzG_f",
        "outputId": "da938552-e6be-416c-f955-48567edc369d",
        "colab": {
          "base_uri": "https://localhost:8080/",
          "height": 102
        }
      },
      "source": [
        "for item in seq:\n",
        "  print (item)"
      ],
      "execution_count": 79,
      "outputs": [
        {
          "output_type": "stream",
          "text": [
            "1\n",
            "2\n",
            "3\n",
            "4\n",
            "5\n"
          ],
          "name": "stdout"
        }
      ]
    },
    {
      "cell_type": "code",
      "metadata": {
        "id": "GHVD-fHVzSmr",
        "outputId": "85e6cb6b-0141-401b-e1b5-e479927be63a",
        "colab": {
          "base_uri": "https://localhost:8080/",
          "height": 102
        }
      },
      "source": [
        "for i in seq:\n",
        "  print(\"Yep\")"
      ],
      "execution_count": 80,
      "outputs": [
        {
          "output_type": "stream",
          "text": [
            "Yep\n",
            "Yep\n",
            "Yep\n",
            "Yep\n",
            "Yep\n"
          ],
          "name": "stdout"
        }
      ]
    },
    {
      "cell_type": "code",
      "metadata": {
        "id": "vKbhnVaDzkyX",
        "outputId": "e8139c1b-ffcd-4d87-97f5-23188ae0dbd1",
        "colab": {
          "base_uri": "https://localhost:8080/",
          "height": 102
        }
      },
      "source": [
        "for j in seq:\n",
        "  print(j+j)"
      ],
      "execution_count": 81,
      "outputs": [
        {
          "output_type": "stream",
          "text": [
            "2\n",
            "4\n",
            "6\n",
            "8\n",
            "10\n"
          ],
          "name": "stdout"
        }
      ]
    },
    {
      "cell_type": "code",
      "metadata": {
        "id": "T3i3pZd70Aee",
        "outputId": "0feaa30a-7d5f-4282-f626-033228c7ea4d",
        "colab": {
          "base_uri": "https://localhost:8080/",
          "height": 442
        }
      },
      "source": [
        "for i in seq: #seq index are from 0...4\n",
        " for j in seq: #seq index ade from 0...4\n",
        "  print (\"i ={}, i_seq_index = {} --- j = {}, j_seq_index = {}\". format(i,seq.index(i),j,seq.index(j)))"
      ],
      "execution_count": 83,
      "outputs": [
        {
          "output_type": "stream",
          "text": [
            "i =1, i_seq_index = 0 --- j = 1, j_seq_index = 0\n",
            "i =1, i_seq_index = 0 --- j = 2, j_seq_index = 1\n",
            "i =1, i_seq_index = 0 --- j = 3, j_seq_index = 2\n",
            "i =1, i_seq_index = 0 --- j = 4, j_seq_index = 3\n",
            "i =1, i_seq_index = 0 --- j = 5, j_seq_index = 4\n",
            "i =2, i_seq_index = 1 --- j = 1, j_seq_index = 0\n",
            "i =2, i_seq_index = 1 --- j = 2, j_seq_index = 1\n",
            "i =2, i_seq_index = 1 --- j = 3, j_seq_index = 2\n",
            "i =2, i_seq_index = 1 --- j = 4, j_seq_index = 3\n",
            "i =2, i_seq_index = 1 --- j = 5, j_seq_index = 4\n",
            "i =3, i_seq_index = 2 --- j = 1, j_seq_index = 0\n",
            "i =3, i_seq_index = 2 --- j = 2, j_seq_index = 1\n",
            "i =3, i_seq_index = 2 --- j = 3, j_seq_index = 2\n",
            "i =3, i_seq_index = 2 --- j = 4, j_seq_index = 3\n",
            "i =3, i_seq_index = 2 --- j = 5, j_seq_index = 4\n",
            "i =4, i_seq_index = 3 --- j = 1, j_seq_index = 0\n",
            "i =4, i_seq_index = 3 --- j = 2, j_seq_index = 1\n",
            "i =4, i_seq_index = 3 --- j = 3, j_seq_index = 2\n",
            "i =4, i_seq_index = 3 --- j = 4, j_seq_index = 3\n",
            "i =4, i_seq_index = 3 --- j = 5, j_seq_index = 4\n",
            "i =5, i_seq_index = 4 --- j = 1, j_seq_index = 0\n",
            "i =5, i_seq_index = 4 --- j = 2, j_seq_index = 1\n",
            "i =5, i_seq_index = 4 --- j = 3, j_seq_index = 2\n",
            "i =5, i_seq_index = 4 --- j = 4, j_seq_index = 3\n",
            "i =5, i_seq_index = 4 --- j = 5, j_seq_index = 4\n"
          ],
          "name": "stdout"
        }
      ]
    },
    {
      "cell_type": "markdown",
      "metadata": {
        "id": "YCA_VxH21ULU"
      },
      "source": [
        "# print each item of the following list: [\"Temperature\", \"Wind_speed\", \" Solar_elevation\", \"is _Cloudy\"]"
      ]
    },
    {
      "cell_type": "code",
      "metadata": {
        "id": "rJKBD9eE1neV"
      },
      "source": [
        "seq=[\"Temperature\", \"Wind_Speed\",\"Solar_elevation\", \"is_Cloudy\"]"
      ],
      "execution_count": 84,
      "outputs": []
    },
    {
      "cell_type": "code",
      "metadata": {
        "id": "indLYQni19DW",
        "outputId": "15d93a67-2700-44bf-9310-fc2ca3092dad",
        "colab": {
          "base_uri": "https://localhost:8080/",
          "height": 85
        }
      },
      "source": [
        "for item in [\"Temperature\", \"Wind_Speed\",\"Solar_elevation\", \"is_Cloudy\"]:\n",
        " print(item)\n"
      ],
      "execution_count": 87,
      "outputs": [
        {
          "output_type": "stream",
          "text": [
            "Temperature\n",
            "Wind_Speed\n",
            "Solar_elevation\n",
            "is_Cloudy\n"
          ],
          "name": "stdout"
        }
      ]
    },
    {
      "cell_type": "markdown",
      "metadata": {
        "id": "i7QzcvaM2vc5"
      },
      "source": [
        "###While loops\n"
      ]
    },
    {
      "cell_type": "code",
      "metadata": {
        "id": "TVLE8qPG22Ee"
      },
      "source": [
        "i=i \n",
        " while (1)"
      ],
      "execution_count": null,
      "outputs": []
    },
    {
      "cell_type": "markdown",
      "metadata": {
        "id": "WJiipX0j3eqn"
      },
      "source": [
        "###Range function"
      ]
    },
    {
      "cell_type": "code",
      "metadata": {
        "id": "iHNYP2rb22Ra",
        "outputId": "6496b634-fc39-4d07-c284-eeeeda031f02",
        "colab": {
          "base_uri": "https://localhost:8080/",
          "height": 34
        }
      },
      "source": [
        "range(5)"
      ],
      "execution_count": 88,
      "outputs": [
        {
          "output_type": "execute_result",
          "data": {
            "text/plain": [
              "range(0, 5)"
            ]
          },
          "metadata": {
            "tags": []
          },
          "execution_count": 88
        }
      ]
    },
    {
      "cell_type": "code",
      "metadata": {
        "id": "6BBenmcU22uk",
        "outputId": "76d924b9-59af-492f-c110-917d5d5e4750",
        "colab": {
          "base_uri": "https://localhost:8080/",
          "height": 102
        }
      },
      "source": [
        "for i in range (5):\n",
        "  print (i)"
      ],
      "execution_count": 89,
      "outputs": [
        {
          "output_type": "stream",
          "text": [
            "0\n",
            "1\n",
            "2\n",
            "3\n",
            "4\n"
          ],
          "name": "stdout"
        }
      ]
    },
    {
      "cell_type": "markdown",
      "metadata": {
        "id": "saRdmsBE39Rc"
      },
      "source": [
        "### list comprehension\n"
      ]
    },
    {
      "cell_type": "code",
      "metadata": {
        "id": "vPSbcOdQ23Dh"
      },
      "source": [
        "x= [1,2,3,4] #list"
      ],
      "execution_count": 90,
      "outputs": []
    },
    {
      "cell_type": "code",
      "metadata": {
        "id": "V76Q9ykg226O",
        "outputId": "53fc5502-d5c0-466a-8a22-b37135812094",
        "colab": {
          "base_uri": "https://localhost:8080/",
          "height": 34
        }
      },
      "source": [
        "out = []\n",
        "for item in x:\n",
        "   out.append(item**2)\n",
        "print(out)"
      ],
      "execution_count": 113,
      "outputs": [
        {
          "output_type": "stream",
          "text": [
            "[1, 4, 9, 16]\n"
          ],
          "name": "stdout"
        }
      ]
    },
    {
      "cell_type": "code",
      "metadata": {
        "id": "YsUZEczw47zJ",
        "outputId": "54ed5b71-ed41-426c-c60b-57903b7faa77",
        "colab": {
          "base_uri": "https://localhost:8080/",
          "height": 34
        }
      },
      "source": [
        "#sintax [expression for item list]\n",
        "[item**2 for item in x]"
      ],
      "execution_count": 104,
      "outputs": [
        {
          "output_type": "execute_result",
          "data": {
            "text/plain": [
              "[1, 4, 9, 16]"
            ]
          },
          "metadata": {
            "tags": []
          },
          "execution_count": 104
        }
      ]
    },
    {
      "cell_type": "code",
      "metadata": {
        "id": "yygDMVZR224S"
      },
      "source": [
        "#if ...else with list comprehension\n",
        "obj =[\"Even\" if i%2 == 0 else \"Odd\" for i in x]"
      ],
      "execution_count": 106,
      "outputs": []
    },
    {
      "cell_type": "code",
      "metadata": {
        "id": "orlww9NE2226",
        "outputId": "ce710760-7e5e-47be-f523-1ce2454a7a74",
        "colab": {
          "base_uri": "https://localhost:8080/",
          "height": 34
        }
      },
      "source": [
        "print(obj)"
      ],
      "execution_count": 107,
      "outputs": [
        {
          "output_type": "stream",
          "text": [
            "['Odd', 'Even', 'Odd', 'Even']\n"
          ],
          "name": "stdout"
        }
      ]
    },
    {
      "cell_type": "code",
      "metadata": {
        "id": "dudRiK7m22k8",
        "outputId": "dcd5b638-1318-4b03-a877-33e8c1530fb9",
        "colab": {
          "base_uri": "https://localhost:8080/",
          "height": 34
        }
      },
      "source": [
        "#iterating though a string using a for loop transform a string to a list\n",
        "h_letters = []\n",
        "for letter in 'weather change':\n",
        "  h_letters.append(letter)\n",
        "print(h_letters)"
      ],
      "execution_count": 111,
      "outputs": [
        {
          "output_type": "stream",
          "text": [
            "['w', 'e', 'a', 't', 'h', 'e', 'r', ' ', 'c', 'h', 'a', 'n', 'g', 'e']\n"
          ],
          "name": "stdout"
        }
      ]
    },
    {
      "cell_type": "code",
      "metadata": {
        "id": "LPgSdfxp22MV"
      },
      "source": [
        "#homework  use list comprehension in the upper code\n",
        "#submit to github before oct 21"
      ],
      "execution_count": null,
      "outputs": []
    },
    {
      "cell_type": "code",
      "metadata": {
        "id": "l55_6si_9qKe"
      },
      "source": [
        ""
      ],
      "execution_count": null,
      "outputs": []
    },
    {
      "cell_type": "markdown",
      "metadata": {
        "id": "K8s9_bDA9rQG"
      },
      "source": [
        "## Functions"
      ]
    },
    {
      "cell_type": "code",
      "metadata": {
        "id": "3qUpjdAg9vS3"
      },
      "source": [
        "def my_func(param1=\"default\"):\n",
        "  \"\"\"\n",
        "  Docstring\n",
        "  \"\"\"\n",
        "  print(param1)"
      ],
      "execution_count": 117,
      "outputs": []
    },
    {
      "cell_type": "code",
      "metadata": {
        "id": "wg5wJpxz9vwF",
        "outputId": "027d24ec-59b8-406f-c0c2-b7bcd4aee0f2",
        "colab": {
          "base_uri": "https://localhost:8080/",
          "height": 34
        }
      },
      "source": [
        "my_func"
      ],
      "execution_count": 118,
      "outputs": [
        {
          "output_type": "execute_result",
          "data": {
            "text/plain": [
              "<function __main__.my_func>"
            ]
          },
          "metadata": {
            "tags": []
          },
          "execution_count": 118
        }
      ]
    },
    {
      "cell_type": "code",
      "metadata": {
        "id": "E9vELf7N-WhR",
        "outputId": "233ee28e-57d1-4716-e097-3f5ddbdc4ad1",
        "colab": {
          "base_uri": "https://localhost:8080/",
          "height": 34
        }
      },
      "source": [
        "my_func()"
      ],
      "execution_count": 119,
      "outputs": [
        {
          "output_type": "stream",
          "text": [
            "default\n"
          ],
          "name": "stdout"
        }
      ]
    },
    {
      "cell_type": "code",
      "metadata": {
        "id": "T8nWPIta-bbP",
        "outputId": "cec0e7ff-a2d0-4772-c545-3f972e70c0df",
        "colab": {
          "base_uri": "https://localhost:8080/",
          "height": 34
        }
      },
      "source": [
        "my_func(\"new param\")"
      ],
      "execution_count": 120,
      "outputs": [
        {
          "output_type": "stream",
          "text": [
            "new param\n"
          ],
          "name": "stdout"
        }
      ]
    },
    {
      "cell_type": "code",
      "metadata": {
        "id": "Z8GKmf_u-ipX",
        "outputId": "cf2f2408-0664-4122-d07d-e13a454df59f",
        "colab": {
          "base_uri": "https://localhost:8080/",
          "height": 34
        }
      },
      "source": [
        "my_func(param1=\"param 2\")"
      ],
      "execution_count": 121,
      "outputs": [
        {
          "output_type": "stream",
          "text": [
            "param 2\n"
          ],
          "name": "stdout"
        }
      ]
    },
    {
      "cell_type": "code",
      "metadata": {
        "id": "J6BEXiOg-86_"
      },
      "source": [
        "def square(x):\n",
        "  return x**2"
      ],
      "execution_count": 126,
      "outputs": []
    },
    {
      "cell_type": "code",
      "metadata": {
        "id": "3A4dD4hU_DYL"
      },
      "source": [
        "out = square(4)"
      ],
      "execution_count": 127,
      "outputs": []
    },
    {
      "cell_type": "code",
      "metadata": {
        "id": "d4M2Ee-M_RuO",
        "outputId": "accc210b-9b9c-439e-d593-0c541d16f284",
        "colab": {
          "base_uri": "https://localhost:8080/",
          "height": 34
        }
      },
      "source": [
        "print(out)"
      ],
      "execution_count": 128,
      "outputs": [
        {
          "output_type": "stream",
          "text": [
            "16\n"
          ],
          "name": "stdout"
        }
      ]
    },
    {
      "cell_type": "code",
      "metadata": {
        "id": "7rkN1zL3_UhQ"
      },
      "source": [
        "#transform the for loop from string to a list in a function\n",
        "h_letters = []\n",
        "for letter in 'weather change':\n",
        "  h_letters.append(letter)\n",
        "print(h_letters)"
      ],
      "execution_count": null,
      "outputs": []
    },
    {
      "cell_type": "code",
      "metadata": {
        "id": "ngpGsDXD_xxf"
      },
      "source": [
        "def string_to_list (str_param = \"weather change\"):\n",
        "  h_letters = []\n",
        "   for letter in str_param:\n",
        "     h_letters.append(letter)\n",
        "  return h_letters"
      ],
      "execution_count": 129,
      "outputs": []
    },
    {
      "cell_type": "code",
      "metadata": {
        "id": "WFYQxuO8AgXy",
        "outputId": "25d2d323-0cbd-4876-8d27-41a22e4cfbbe",
        "colab": {
          "base_uri": "https://localhost:8080/",
          "height": 163
        }
      },
      "source": [
        "new_variable = string_to_list ()"
      ],
      "execution_count": 133,
      "outputs": [
        {
          "output_type": "error",
          "ename": "NameError",
          "evalue": "ignored",
          "traceback": [
            "\u001b[0;31m---------------------------------------------------------------------------\u001b[0m",
            "\u001b[0;31mNameError\u001b[0m                                 Traceback (most recent call last)",
            "\u001b[0;32m<ipython-input-133-bbfb2b80efdf>\u001b[0m in \u001b[0;36m<module>\u001b[0;34m()\u001b[0m\n\u001b[0;32m----> 1\u001b[0;31m \u001b[0mnew_variable\u001b[0m \u001b[0;34m=\u001b[0m \u001b[0mstring_to_list\u001b[0m \u001b[0;34m(\u001b[0m\u001b[0;34m)\u001b[0m\u001b[0;34m\u001b[0m\u001b[0;34m\u001b[0m\u001b[0m\n\u001b[0m",
            "\u001b[0;31mNameError\u001b[0m: name 'string_to_list' is not defined"
          ]
        }
      ]
    },
    {
      "cell_type": "markdown",
      "metadata": {
        "id": "8388gQYXBhFm"
      },
      "source": [
        "#Lambda expressions\n"
      ]
    },
    {
      "cell_type": "code",
      "metadata": {
        "id": "PxLstWHZBkc3"
      },
      "source": [
        "def double(var):\n",
        "  return var*2"
      ],
      "execution_count": 134,
      "outputs": []
    },
    {
      "cell_type": "code",
      "metadata": {
        "id": "E9IkYwDwBqjU",
        "outputId": "864ef096-5ffc-4277-c35d-980c6f92347f",
        "colab": {
          "base_uri": "https://localhost:8080/",
          "height": 34
        }
      },
      "source": [
        "double(4)"
      ],
      "execution_count": 135,
      "outputs": [
        {
          "output_type": "execute_result",
          "data": {
            "text/plain": [
              "8"
            ]
          },
          "metadata": {
            "tags": []
          },
          "execution_count": 135
        }
      ]
    },
    {
      "cell_type": "code",
      "metadata": {
        "id": "c7ffzy10CA1m",
        "outputId": "659976fb-b86b-4eec-a84d-06ff22104840",
        "colab": {
          "base_uri": "https://localhost:8080/",
          "height": 34
        }
      },
      "source": [
        "lambda var: var * 2"
      ],
      "execution_count": 136,
      "outputs": [
        {
          "output_type": "execute_result",
          "data": {
            "text/plain": [
              "<function __main__.<lambda>>"
            ]
          },
          "metadata": {
            "tags": []
          },
          "execution_count": 136
        }
      ]
    },
    {
      "cell_type": "code",
      "metadata": {
        "id": "DR4HcX5pCFlM",
        "outputId": "8a5b3885-ade8-47a5-d7fe-2ab2395e28e9",
        "colab": {
          "base_uri": "https://localhost:8080/",
          "height": 34
        }
      },
      "source": [
        "def sum_ten(x): \n",
        "  return x+10\n",
        "y = sum_ten(5)\n",
        "print(y)"
      ],
      "execution_count": 137,
      "outputs": [
        {
          "output_type": "stream",
          "text": [
            "15\n"
          ],
          "name": "stdout"
        }
      ]
    },
    {
      "cell_type": "code",
      "metadata": {
        "id": "KWvhKV_tCTE9",
        "outputId": "243f229b-8dba-40e9-a28f-7a0d9860f367",
        "colab": {
          "base_uri": "https://localhost:8080/",
          "height": 34
        }
      },
      "source": [
        "y= lambda x: x+10\n",
        "print(y(5))"
      ],
      "execution_count": 138,
      "outputs": [
        {
          "output_type": "stream",
          "text": [
            "15\n"
          ],
          "name": "stdout"
        }
      ]
    },
    {
      "cell_type": "code",
      "metadata": {
        "id": "z_nhlX8mCv89",
        "outputId": "ac87a6e5-c0dd-4131-b650-531cf373a5e3",
        "colab": {
          "base_uri": "https://localhost:8080/",
          "height": 34
        }
      },
      "source": [
        "num = 13\n",
        "even_odd = lambda i : \"even\" if i%2 ==0 else \"Odd\"\n",
        "print (even_odd(num))"
      ],
      "execution_count": 139,
      "outputs": [
        {
          "output_type": "stream",
          "text": [
            "Odd\n"
          ],
          "name": "stdout"
        }
      ]
    },
    {
      "cell_type": "markdown",
      "metadata": {
        "id": "RQZTF1htDGxv"
      },
      "source": [
        "#map, reduce, filter and zip"
      ]
    },
    {
      "cell_type": "code",
      "metadata": {
        "id": "L0TWCsQHDJ8L"
      },
      "source": [
        "seq = list (range(10)) # = [0,...,9]"
      ],
      "execution_count": 140,
      "outputs": []
    },
    {
      "cell_type": "code",
      "metadata": {
        "id": "_WW6vNTvDc9v",
        "outputId": "fe6cc4d8-83d3-4344-fa8f-40e2584b2d2f",
        "colab": {
          "base_uri": "https://localhost:8080/",
          "height": 34
        }
      },
      "source": [
        "map (double, seq) # map(function, iterable)"
      ],
      "execution_count": 141,
      "outputs": [
        {
          "output_type": "execute_result",
          "data": {
            "text/plain": [
              "<map at 0x7f29c53f5198>"
            ]
          },
          "metadata": {
            "tags": []
          },
          "execution_count": 141
        }
      ]
    },
    {
      "cell_type": "code",
      "metadata": {
        "id": "-vpWETnyDhuV",
        "outputId": "03777dc8-d941-4648-b558-6e6aeea127bc",
        "colab": {
          "base_uri": "https://localhost:8080/",
          "height": 34
        }
      },
      "source": [
        "list(map(double,seq))"
      ],
      "execution_count": 142,
      "outputs": [
        {
          "output_type": "execute_result",
          "data": {
            "text/plain": [
              "[0, 2, 4, 6, 8, 10, 12, 14, 16, 18]"
            ]
          },
          "metadata": {
            "tags": []
          },
          "execution_count": 142
        }
      ]
    }
  ]
}